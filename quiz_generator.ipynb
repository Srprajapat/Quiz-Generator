{
 "cells": [
  {
   "cell_type": "code",
   "execution_count": 2,
   "id": "c463ac99",
   "metadata": {},
   "outputs": [],
   "source": [
    "import os\n",
    "import json\n",
    "from IPython.display import display, Markdown \n",
    "from dotenv import load_dotenv"
   ]
  },
  {
   "cell_type": "code",
   "execution_count": 3,
   "id": "cebfc3e8",
   "metadata": {},
   "outputs": [],
   "source": [
    "from google import genai"
   ]
  },
  {
   "cell_type": "code",
   "execution_count": 4,
   "id": "209dad81",
   "metadata": {},
   "outputs": [
    {
     "data": {
      "text/plain": [
       "True"
      ]
     },
     "execution_count": 4,
     "metadata": {},
     "output_type": "execute_result"
    }
   ],
   "source": [
    "load_dotenv()"
   ]
  },
  {
   "cell_type": "code",
   "execution_count": 5,
   "id": "b391cd8b",
   "metadata": {},
   "outputs": [],
   "source": [
    "google_api_key = os.getenv(\"GOOGLE_API_KEY\")\n"
   ]
  },
  {
   "cell_type": "code",
   "execution_count": 6,
   "id": "71cb4485",
   "metadata": {},
   "outputs": [],
   "source": [
    "client = genai.Client(api_key = google_api_key)"
   ]
  },
  {
   "cell_type": "code",
   "execution_count": 7,
   "id": "24534ea6",
   "metadata": {},
   "outputs": [],
   "source": [
    "def attach_file(file_path):\n",
    "    if not os.path.exists(file_path):\n",
    "        print(f\"Error: File not found at {file_path}. Skipping attachment.\")\n",
    "        return None\n",
    "    print(f\"Attempting to attach file: {file_path}\")\n",
    "    try:\n",
    "        file_extension = os.path.splitext(file_path)[1].lower()\n",
    "\n",
    "        if file_extension in ['.pdf', '.docx', '.txt']:\n",
    "            uploaded_file = client.files.upload(file = file_path) \n",
    "            print(f\"Uploaded file for attachment (ID: {uploaded_file.uri}): {file_path}\")\n",
    "            return uploaded_file            \n",
    "        else:\n",
    "            print(f\"Warning: Unsupported file type for Gemini multimodal input: {file_path}.\")\n",
    "            print(\"Supported types documents via File API (e.g., PDF, DOCX, TXT).\")\n",
    "            return None \n",
    "\n",
    "    except Exception as e:\n",
    "        print(f\"Error processing file {file_path}: {e}\")\n",
    "        return None \n"
   ]
  },
  {
   "cell_type": "code",
   "execution_count": 8,
   "id": "ceef4124",
   "metadata": {},
   "outputs": [],
   "source": [
    "def fetch_questions(file_path=None):\n",
    "    RESPONSE_JSON = {\n",
    "        \"mcqs\": [\n",
    "            {\n",
    "                \"mcq\": \"multiple choice question1\",\n",
    "                \"options\": {\n",
    "                    \"a\": \"choice here1\",\n",
    "                    \"b\": \"choice here2\",\n",
    "                    \"c\": \"choice here3\",\n",
    "                    \"d\": \"choice here4\",\n",
    "                },\n",
    "                \"correct\": \"correct choice option\",\n",
    "            },\n",
    "            { \n",
    "                \"mcq\": \"multiple choice question3\",\n",
    "                \"options\": {\n",
    "                    \"a\": \"choice here1\",\n",
    "                    \"b\": \"choice here2\",\n",
    "                    \"c\": \"choice here3\",\n",
    "                    \"d\": \"choice here4\",\n",
    "                },\n",
    "                \"correct\": \"correct choice option\",\n",
    "            }\n",
    "        ]\n",
    "    }\n",
    "\n",
    "    prompt_template = f\"\"\"\n",
    "    You are an expert in generating MCQ type quiz on the basis of provided content.\n",
    "    Given the above text/file, create a quiz of 2 multiple choice questions.\n",
    "    Make sure the questions are not repeated and check all the questions to be conforming the text as well.\n",
    "    Make sure to format your response like the RESPONSE_JSON below and use it as a guide.\n",
    "    Ensure to make an array of 2 MCQs referring the following response json.\n",
    "    {RESPONSE_JSON}\n",
    "    \"\"\"\n",
    "    content_parts = [prompt_template] \n",
    "\n",
    "    if file_path:\n",
    "        attached_content = attach_file(file_path) \n",
    "        if attached_content:\n",
    "            content_parts.append(attached_content)\n",
    "            print(content_parts)\n",
    "        else:\n",
    "            print(f\"Skipping file attachment for {file_path} due to previous error/unsupported type.\")\n",
    "\n",
    "    try:\n",
    "        response = client.models.generate_content(\n",
    "            model=\"gemini-2.5-flash\",\n",
    "            contents= content_parts\n",
    "        )\n",
    "        if response.text:\n",
    "            cleaned_json_string = response.text.strip()\n",
    "            if cleaned_json_string.startswith(\"```json\"):\n",
    "                cleaned_json_string = cleaned_json_string[len(\"```json\"):].strip()\n",
    "            if cleaned_json_string.endswith(\"```\"):\n",
    "                cleaned_json_string = cleaned_json_string[:-len(\"```\")].strip()\n",
    "            try:\n",
    "                # print(response.text)\n",
    "                parsed_response = json.loads(cleaned_json_string).get(\"mcqs\",[])\n",
    "                display(Markdown(f\"**Bot Response (Parsed JSON):**\\n```json\\n{json.dumps(parsed_response, indent=2)}\\n```\"))\n",
    "            except json.JSONDecodeError as json_err:\n",
    "                print(f\"Error parsing JSON response: {json_err}\")\n",
    "                display(Markdown(f\"**Bot Response (Raw Text - JSON Parse Error):**\\n```\\n{response.text}\\n```\"))\n",
    "        else:\n",
    "            print(\"Bot: (No text generated or response is empty.)\")\n",
    "            if response.prompt_feedback:\n",
    "                print(f\"Prompt feedback: {response.prompt_feedback}\")\n",
    "                if response.prompt_feedback.block_reason:\n",
    "                    print(f\"  Block Reason: {response.prompt_feedback.block_reason}\")\n",
    "                if response.prompt_feedback.safety_ratings:\n",
    "                    print(f\"  Safety Ratings: {response.prompt_feedback.safety_ratings}\")\n",
    "\n",
    "    except Exception as e:\n",
    "        print(f\"An error occurred during content generation: {e}\")\n",
    "    return parsed_response"
   ]
  },
  {
   "cell_type": "code",
   "execution_count": 9,
   "id": "9409a131",
   "metadata": {},
   "outputs": [
    {
     "name": "stdout",
     "output_type": "stream",
     "text": [
      "Attempting to attach file: The Art of Capacity Planning_ Scaling Web Resources in the Cloud.pdf\n",
      "Uploaded file for attachment (ID: https://generativelanguage.googleapis.com/v1beta/files/voa503oz69o4): The Art of Capacity Planning_ Scaling Web Resources in the Cloud.pdf\n",
      "[\"\\n    You are an expert in generating MCQ type quiz on the basis of provided content.\\n    Given the above text/file, create a quiz of 2 multiple choice questions.\\n    Make sure the questions are not repeated and check all the questions to be conforming the text as well.\\n    Make sure to format your response like the RESPONSE_JSON below and use it as a guide.\\n    Ensure to make an array of 2 MCQs referring the following response json.\\n    {'mcqs': [{'mcq': 'multiple choice question1', 'options': {'a': 'choice here1', 'b': 'choice here2', 'c': 'choice here3', 'd': 'choice here4'}, 'correct': 'correct choice option'}, {'mcq': 'multiple choice question3', 'options': {'a': 'choice here1', 'b': 'choice here2', 'c': 'choice here3', 'd': 'choice here4'}, 'correct': 'correct choice option'}]}\\n    \", File(\n",
      "  create_time=datetime.datetime(2025, 7, 11, 7, 1, 15, 173654, tzinfo=TzInfo(UTC)),\n",
      "  expiration_time=datetime.datetime(2025, 7, 13, 7, 1, 15, 64737, tzinfo=TzInfo(UTC)),\n",
      "  mime_type='application/pdf',\n",
      "  name='files/voa503oz69o4',\n",
      "  sha256_hash='MTUxY2Q0MDcyZGIyNWUzY2RkNmFhM2MxZDA1YjkyZjZjYWEyMWM3MGZlYTZhMzJlMzVlMDJiNWQ5NzgwNmNlOA==',\n",
      "  size_bytes=46253732,\n",
      "  source=<FileSource.UPLOADED: 'UPLOADED'>,\n",
      "  state=<FileState.ACTIVE: 'ACTIVE'>,\n",
      "  update_time=datetime.datetime(2025, 7, 11, 7, 1, 15, 173654, tzinfo=TzInfo(UTC)),\n",
      "  uri='https://generativelanguage.googleapis.com/v1beta/files/voa503oz69o4'\n",
      ")]\n"
     ]
    },
    {
     "data": {
      "text/markdown": [
       "**Bot Response (Parsed JSON):**\n",
       "```json\n",
       "[\n",
       "  {\n",
       "    \"mcq\": \"Who are the authors of the book 'The Art of Capacity Planning: Scaling Web Resources'?\",\n",
       "    \"options\": {\n",
       "      \"a\": \"John O'Reilly & Arun Smith\",\n",
       "      \"b\": \"Arun Kejariwal & John Allspaw\",\n",
       "      \"c\": \"Brian Anderson & Nicholas Adams\",\n",
       "      \"d\": \"Rebecca Demarest & Karen Montgomery\"\n",
       "    },\n",
       "    \"correct\": \"b\"\n",
       "  },\n",
       "  {\n",
       "    \"mcq\": \"According to the book, what is 'diagonal scaling' in the context of capacity planning?\",\n",
       "    \"options\": {\n",
       "      \"a\": \"The process of adding more identical nodes to an existing infrastructure to distribute load.\",\n",
       "      \"b\": \"The capability of adding capacity by increasing the resources internal to a single server, such as CPU, memory, disk, and network.\",\n",
       "      \"c\": \"The process of vertically scaling the horizontally scaled nodes that an enterprise already has in the infrastructure.\",\n",
       "      \"d\": \"The method of distributing load across geographically dispersed datacenters.\"\n",
       "    },\n",
       "    \"correct\": \"c\"\n",
       "  }\n",
       "]\n",
       "```"
      ],
      "text/plain": [
       "<IPython.core.display.Markdown object>"
      ]
     },
     "metadata": {},
     "output_type": "display_data"
    }
   ],
   "source": [
    "questions = fetch_questions(\"The Art of Capacity Planning_ Scaling Web Resources in the Cloud.pdf\")"
   ]
  },
  {
   "cell_type": "code",
   "execution_count": 26,
   "id": "f1e1a968",
   "metadata": {},
   "outputs": [
    {
     "name": "stdout",
     "output_type": "stream",
     "text": [
      "What approach to capacity planning does \"The Art of Capacity Planning\" primarily advocate?\n",
      "a ). Relying on complex mathematical models and simulations.\n",
      "b ). Conducting extensive benchmarks in artificial laboratory settings.\n",
      "c ). An adaptive, practical approach focused on real-world usage and tools.\n",
      "d ). Strictly adhering to static theoretical models for resource allocation.\n",
      "According to the preface, which of the following developments significantly contributed to the decision to write the second edition of the book?\n",
      "a ). The advent of quantum computing and its impact on data processing.\n",
      "b ). The widespread adoption of public cloud computing, including autoscaling and microservices.\n",
      "c ). A renewed industry focus on optimizing single-server performance.\n",
      "d ). A shift from web resources to desktop application scaling challenges.\n"
     ]
    }
   ],
   "source": [
    "for question in questions:\n",
    "    print(question.get(\"mcq\"))\n",
    "    for i in ['a','b','c','d']:\n",
    "        print(i,').', question.get(\"options\").get(i))"
   ]
  },
  {
   "cell_type": "code",
   "execution_count": null,
   "id": "abbbf423",
   "metadata": {},
   "outputs": [],
   "source": []
  }
 ],
 "metadata": {
  "kernelspec": {
   "display_name": "venv (3.12.9)",
   "language": "python",
   "name": "python3"
  },
  "language_info": {
   "codemirror_mode": {
    "name": "ipython",
    "version": 3
   },
   "file_extension": ".py",
   "mimetype": "text/x-python",
   "name": "python",
   "nbconvert_exporter": "python",
   "pygments_lexer": "ipython3",
   "version": "3.12.9"
  }
 },
 "nbformat": 4,
 "nbformat_minor": 5
}
